{
  "cells": [
    {
      "cell_type": "code",
      "execution_count": 1,
      "metadata": {
        "id": "AF3WgYDfHyWQ"
      },
      "outputs": [],
      "source": [
        "# import libraries\n",
        "import glob\n",
        "from keras.models import Sequential, load_model\n",
        "import numpy as np\n",
        "import pandas as pd\n",
        "from keras.layers import Dense\n",
        "from sklearn.model_selection import train_test_split\n",
        "from sklearn.preprocessing import LabelEncoder, MinMaxScaler\n",
        "import matplotlib.pyplot as plt\n",
        "import keras as k\n",
        "import warnings\n",
        "warnings.filterwarnings('ignore')"
      ]
    },
    {
      "cell_type": "markdown",
      "metadata": {
        "id": "rtE5rWBDIBEj"
      },
      "source": [
        "Using TensorFlow backend"
      ]
    },
    {
      "cell_type": "code",
      "execution_count": 2,
      "metadata": {
        "colab": {
          "base_uri": "https://localhost:8080/",
          "height": 291
        },
        "id": "FvmQ9u4GIF3X",
        "outputId": "1c251210-038a-4628-8244-5c7f17b4fd05"
      },
      "outputs": [
        {
          "data": {
            "text/html": [
              "<div>\n",
              "<style scoped>\n",
              "    .dataframe tbody tr th:only-of-type {\n",
              "        vertical-align: middle;\n",
              "    }\n",
              "\n",
              "    .dataframe tbody tr th {\n",
              "        vertical-align: top;\n",
              "    }\n",
              "\n",
              "    .dataframe thead th {\n",
              "        text-align: right;\n",
              "    }\n",
              "</style>\n",
              "<table border=\"1\" class=\"dataframe\">\n",
              "  <thead>\n",
              "    <tr style=\"text-align: right;\">\n",
              "      <th></th>\n",
              "      <th>id</th>\n",
              "      <th>age</th>\n",
              "      <th>bp</th>\n",
              "      <th>sg</th>\n",
              "      <th>al</th>\n",
              "      <th>su</th>\n",
              "      <th>rbc</th>\n",
              "      <th>pc</th>\n",
              "      <th>pcc</th>\n",
              "      <th>ba</th>\n",
              "      <th>...</th>\n",
              "      <th>pcv</th>\n",
              "      <th>wc</th>\n",
              "      <th>rc</th>\n",
              "      <th>htn</th>\n",
              "      <th>dm</th>\n",
              "      <th>cad</th>\n",
              "      <th>appet</th>\n",
              "      <th>pe</th>\n",
              "      <th>ane</th>\n",
              "      <th>classification</th>\n",
              "    </tr>\n",
              "  </thead>\n",
              "  <tbody>\n",
              "    <tr>\n",
              "      <th>0</th>\n",
              "      <td>0</td>\n",
              "      <td>48.0</td>\n",
              "      <td>80.0</td>\n",
              "      <td>1.020</td>\n",
              "      <td>1.0</td>\n",
              "      <td>0.0</td>\n",
              "      <td>NaN</td>\n",
              "      <td>normal</td>\n",
              "      <td>notpresent</td>\n",
              "      <td>notpresent</td>\n",
              "      <td>...</td>\n",
              "      <td>44</td>\n",
              "      <td>7800</td>\n",
              "      <td>5.2</td>\n",
              "      <td>yes</td>\n",
              "      <td>yes</td>\n",
              "      <td>no</td>\n",
              "      <td>good</td>\n",
              "      <td>no</td>\n",
              "      <td>no</td>\n",
              "      <td>ckd</td>\n",
              "    </tr>\n",
              "    <tr>\n",
              "      <th>1</th>\n",
              "      <td>1</td>\n",
              "      <td>7.0</td>\n",
              "      <td>50.0</td>\n",
              "      <td>1.020</td>\n",
              "      <td>4.0</td>\n",
              "      <td>0.0</td>\n",
              "      <td>NaN</td>\n",
              "      <td>normal</td>\n",
              "      <td>notpresent</td>\n",
              "      <td>notpresent</td>\n",
              "      <td>...</td>\n",
              "      <td>38</td>\n",
              "      <td>6000</td>\n",
              "      <td>NaN</td>\n",
              "      <td>no</td>\n",
              "      <td>no</td>\n",
              "      <td>no</td>\n",
              "      <td>good</td>\n",
              "      <td>no</td>\n",
              "      <td>no</td>\n",
              "      <td>ckd</td>\n",
              "    </tr>\n",
              "    <tr>\n",
              "      <th>2</th>\n",
              "      <td>2</td>\n",
              "      <td>62.0</td>\n",
              "      <td>80.0</td>\n",
              "      <td>1.010</td>\n",
              "      <td>2.0</td>\n",
              "      <td>3.0</td>\n",
              "      <td>normal</td>\n",
              "      <td>normal</td>\n",
              "      <td>notpresent</td>\n",
              "      <td>notpresent</td>\n",
              "      <td>...</td>\n",
              "      <td>31</td>\n",
              "      <td>7500</td>\n",
              "      <td>NaN</td>\n",
              "      <td>no</td>\n",
              "      <td>yes</td>\n",
              "      <td>no</td>\n",
              "      <td>poor</td>\n",
              "      <td>no</td>\n",
              "      <td>yes</td>\n",
              "      <td>ckd</td>\n",
              "    </tr>\n",
              "    <tr>\n",
              "      <th>3</th>\n",
              "      <td>3</td>\n",
              "      <td>48.0</td>\n",
              "      <td>70.0</td>\n",
              "      <td>1.005</td>\n",
              "      <td>4.0</td>\n",
              "      <td>0.0</td>\n",
              "      <td>normal</td>\n",
              "      <td>abnormal</td>\n",
              "      <td>present</td>\n",
              "      <td>notpresent</td>\n",
              "      <td>...</td>\n",
              "      <td>32</td>\n",
              "      <td>6700</td>\n",
              "      <td>3.9</td>\n",
              "      <td>yes</td>\n",
              "      <td>no</td>\n",
              "      <td>no</td>\n",
              "      <td>poor</td>\n",
              "      <td>yes</td>\n",
              "      <td>yes</td>\n",
              "      <td>ckd</td>\n",
              "    </tr>\n",
              "    <tr>\n",
              "      <th>4</th>\n",
              "      <td>4</td>\n",
              "      <td>51.0</td>\n",
              "      <td>80.0</td>\n",
              "      <td>1.010</td>\n",
              "      <td>2.0</td>\n",
              "      <td>0.0</td>\n",
              "      <td>normal</td>\n",
              "      <td>normal</td>\n",
              "      <td>notpresent</td>\n",
              "      <td>notpresent</td>\n",
              "      <td>...</td>\n",
              "      <td>35</td>\n",
              "      <td>7300</td>\n",
              "      <td>4.6</td>\n",
              "      <td>no</td>\n",
              "      <td>no</td>\n",
              "      <td>no</td>\n",
              "      <td>good</td>\n",
              "      <td>no</td>\n",
              "      <td>no</td>\n",
              "      <td>ckd</td>\n",
              "    </tr>\n",
              "  </tbody>\n",
              "</table>\n",
              "<p>5 rows × 26 columns</p>\n",
              "</div>"
            ],
            "text/plain": [
              "   id   age    bp     sg   al   su     rbc        pc         pcc          ba  \\\n",
              "0   0  48.0  80.0  1.020  1.0  0.0     NaN    normal  notpresent  notpresent   \n",
              "1   1   7.0  50.0  1.020  4.0  0.0     NaN    normal  notpresent  notpresent   \n",
              "2   2  62.0  80.0  1.010  2.0  3.0  normal    normal  notpresent  notpresent   \n",
              "3   3  48.0  70.0  1.005  4.0  0.0  normal  abnormal     present  notpresent   \n",
              "4   4  51.0  80.0  1.010  2.0  0.0  normal    normal  notpresent  notpresent   \n",
              "\n",
              "   ...  pcv    wc   rc  htn   dm  cad appet   pe  ane classification  \n",
              "0  ...   44  7800  5.2  yes  yes   no  good   no   no            ckd  \n",
              "1  ...   38  6000  NaN   no   no   no  good   no   no            ckd  \n",
              "2  ...   31  7500  NaN   no  yes   no  poor   no  yes            ckd  \n",
              "3  ...   32  6700  3.9  yes   no   no  poor  yes  yes            ckd  \n",
              "4  ...   35  7300  4.6   no   no   no  good   no   no            ckd  \n",
              "\n",
              "[5 rows x 26 columns]"
            ]
          },
          "execution_count": 2,
          "metadata": {},
          "output_type": "execute_result"
        }
      ],
      "source": [
        "#Load the data\n",
        "# from google.colab import files\n",
        "# uploaded=files.upload()\n",
        "\n",
        "df=pd.read_csv('kidney_disease.csv')\n",
        "\n",
        "#print first 5 rows\n",
        "df.head()"
      ]
    },
    {
      "cell_type": "code",
      "execution_count": 3,
      "metadata": {
        "colab": {
          "base_uri": "https://localhost:8080/"
        },
        "id": "9KVDaloqIST7",
        "outputId": "8d226775-75c6-46a6-e33a-283d763b2c1a"
      },
      "outputs": [
        {
          "data": {
            "text/plain": [
              "(400, 26)"
            ]
          },
          "execution_count": 3,
          "metadata": {},
          "output_type": "execute_result"
        }
      ],
      "source": [
        "#get the shape of data(the number of rows  & columns)\n",
        "df.shape"
      ]
    },
    {
      "cell_type": "code",
      "execution_count": 4,
      "metadata": {},
      "outputs": [
        {
          "data": {
            "text/plain": [
              "array([[<Axes: title={'center': 'id'}>, <Axes: title={'center': 'age'}>,\n",
              "        <Axes: title={'center': 'bp'}>],\n",
              "       [<Axes: title={'center': 'sg'}>, <Axes: title={'center': 'al'}>,\n",
              "        <Axes: title={'center': 'su'}>],\n",
              "       [<Axes: title={'center': 'bgr'}>, <Axes: title={'center': 'bu'}>,\n",
              "        <Axes: title={'center': 'sc'}>],\n",
              "       [<Axes: title={'center': 'sod'}>, <Axes: title={'center': 'pot'}>,\n",
              "        <Axes: title={'center': 'hemo'}>]], dtype=object)"
            ]
          },
          "execution_count": 4,
          "metadata": {},
          "output_type": "execute_result"
        },
        {
          "data": {
            "image/png": "[encoded data removed]",
            "text/plain": [
              "<Figure size 640x480 with 12 Axes>"
            ]
          },
          "metadata": {},
          "output_type": "display_data"
        }
      ],
      "source": [
        "df.hist()"
      ]
    },
    {
      "cell_type": "code",
      "execution_count": 5,
      "metadata": {},
      "outputs": [
        {
          "data": {
            "text/plain": [
              "Index(['id', 'age', 'bp', 'sg', 'al', 'su', 'rbc', 'pc', 'pcc', 'ba', 'bgr',\n",
              "       'bu', 'sc', 'sod', 'pot', 'hemo', 'pcv', 'wc', 'rc', 'htn', 'dm', 'cad',\n",
              "       'appet', 'pe', 'ane', 'classification'],\n",
              "      dtype='object')"
            ]
          },
          "execution_count": 5,
          "metadata": {},
          "output_type": "execute_result"
        }
      ],
      "source": [
        "df.columns"
      ]
    },
    {
      "cell_type": "code",
      "execution_count": 6,
      "metadata": {},
      "outputs": [
        {
          "data": {
            "text/plain": [
              "id                  int64\n",
              "age               float64\n",
              "bp                float64\n",
              "sg                float64\n",
              "al                float64\n",
              "su                float64\n",
              "rbc                object\n",
              "pc                 object\n",
              "pcc                object\n",
              "ba                 object\n",
              "bgr               float64\n",
              "bu                float64\n",
              "sc                float64\n",
              "sod               float64\n",
              "pot               float64\n",
              "hemo              float64\n",
              "pcv                object\n",
              "wc                 object\n",
              "rc                 object\n",
              "htn                object\n",
              "dm                 object\n",
              "cad                object\n",
              "appet              object\n",
              "pe                 object\n",
              "ane                object\n",
              "classification     object\n",
              "dtype: object"
            ]
          },
          "execution_count": 6,
          "metadata": {},
          "output_type": "execute_result"
        }
      ],
      "source": [
        "df.dtypes"
      ]
    },
    {
      "cell_type": "code",
      "execution_count": 7,
      "metadata": {
        "id": "6WcXBLelIVch"
      },
      "outputs": [],
      "source": [
        "#create list of columns names to keep\n",
        "column_to_retain = ['sg', 'al', 'sc', 'hemo', 'pcv', 'wbcc', 'rbcc', 'htn', 'classification']\n",
        "\n",
        "#drop columns that are not in columns_to_retain\n",
        "df=df.drop([col for col in df.columns if not col in col in column_to_retain], axis=1)\n",
        "\n",
        "#drop rows with na or missing values\n",
        "df=df.dropna(axis=0)"
      ]
    },
    {
      "cell_type": "code",
      "execution_count": 8,
      "metadata": {
        "colab": {
          "base_uri": "https://localhost:8080/"
        },
        "id": "-yGUKykqIYEb",
        "outputId": "9d72d88e-dbbe-463d-fb5c-67adba5401bb"
      },
      "outputs": [],
      "source": [
        "#Transform the non-numeric data in columns\n",
        "for column in df.columns:\n",
        "  if df[column].dtype == np.number:\n",
        "    continue\n",
        "  df[column] = LabelEncoder().fit_transform( df[column] )"
      ]
    },
    {
      "cell_type": "code",
      "execution_count": 9,
      "metadata": {
        "colab": {
          "base_uri": "https://localhost:8080/",
          "height": 206
        },
        "id": "CJt0d1wXIbU2",
        "outputId": "5a179d67-14c7-43d4-84b5-b34775a48a6f"
      },
      "outputs": [
        {
          "data": {
            "text/html": [
              "<div>\n",
              "<style scoped>\n",
              "    .dataframe tbody tr th:only-of-type {\n",
              "        vertical-align: middle;\n",
              "    }\n",
              "\n",
              "    .dataframe tbody tr th {\n",
              "        vertical-align: top;\n",
              "    }\n",
              "\n",
              "    .dataframe thead th {\n",
              "        text-align: right;\n",
              "    }\n",
              "</style>\n",
              "<table border=\"1\" class=\"dataframe\">\n",
              "  <thead>\n",
              "    <tr style=\"text-align: right;\">\n",
              "      <th></th>\n",
              "      <th>sg</th>\n",
              "      <th>al</th>\n",
              "      <th>sc</th>\n",
              "      <th>hemo</th>\n",
              "      <th>pcv</th>\n",
              "      <th>htn</th>\n",
              "      <th>classification</th>\n",
              "    </tr>\n",
              "  </thead>\n",
              "  <tbody>\n",
              "    <tr>\n",
              "      <th>0</th>\n",
              "      <td>1.020</td>\n",
              "      <td>1.0</td>\n",
              "      <td>1.2</td>\n",
              "      <td>15.4</td>\n",
              "      <td>28</td>\n",
              "      <td>1</td>\n",
              "      <td>0</td>\n",
              "    </tr>\n",
              "    <tr>\n",
              "      <th>1</th>\n",
              "      <td>1.020</td>\n",
              "      <td>4.0</td>\n",
              "      <td>0.8</td>\n",
              "      <td>11.3</td>\n",
              "      <td>22</td>\n",
              "      <td>0</td>\n",
              "      <td>0</td>\n",
              "    </tr>\n",
              "    <tr>\n",
              "      <th>2</th>\n",
              "      <td>1.010</td>\n",
              "      <td>2.0</td>\n",
              "      <td>1.8</td>\n",
              "      <td>9.6</td>\n",
              "      <td>15</td>\n",
              "      <td>0</td>\n",
              "      <td>0</td>\n",
              "    </tr>\n",
              "    <tr>\n",
              "      <th>3</th>\n",
              "      <td>1.005</td>\n",
              "      <td>4.0</td>\n",
              "      <td>3.8</td>\n",
              "      <td>11.2</td>\n",
              "      <td>16</td>\n",
              "      <td>1</td>\n",
              "      <td>0</td>\n",
              "    </tr>\n",
              "    <tr>\n",
              "      <th>4</th>\n",
              "      <td>1.010</td>\n",
              "      <td>2.0</td>\n",
              "      <td>1.4</td>\n",
              "      <td>11.6</td>\n",
              "      <td>19</td>\n",
              "      <td>0</td>\n",
              "      <td>0</td>\n",
              "    </tr>\n",
              "  </tbody>\n",
              "</table>\n",
              "</div>"
            ],
            "text/plain": [
              "      sg   al   sc  hemo  pcv  htn  classification\n",
              "0  1.020  1.0  1.2  15.4   28    1               0\n",
              "1  1.020  4.0  0.8  11.3   22    0               0\n",
              "2  1.010  2.0  1.8   9.6   15    0               0\n",
              "3  1.005  4.0  3.8  11.2   16    1               0\n",
              "4  1.010  2.0  1.4  11.6   19    0               0"
            ]
          },
          "execution_count": 9,
          "metadata": {},
          "output_type": "execute_result"
        }
      ],
      "source": [
        "#Print first 5 rows of the new cleaned dataset\n",
        "df.head()"
      ]
    },
    {
      "cell_type": "code",
      "execution_count": 10,
      "metadata": {
        "id": "7ZJRQPImIdZi"
      },
      "outputs": [],
      "source": [
        "#Split data into independent (X) data set (the features) and dependent (y) dataset (the target)\n",
        "X= df.drop(['classification'], axis=1)\n",
        "y= df['classification']"
      ]
    },
    {
      "cell_type": "code",
      "execution_count": 11,
      "metadata": {
        "id": "1VdPocjiIdpS"
      },
      "outputs": [],
      "source": [
        "#feature scaling\n",
        "#min-max scaler method scales the dataset so that all input features lie between 0 and 1\n",
        "x_scaler = MinMaxScaler()\n",
        "x_scaler.fit(X)\n",
        "column_names = X.columns\n",
        "X[column_names]= x_scaler.transform(X)"
      ]
    },
    {
      "cell_type": "code",
      "execution_count": 12,
      "metadata": {
        "id": "kMpPs3OTIdw6"
      },
      "outputs": [],
      "source": [
        "#Split data into 80% training and 20% testing\n",
        "X_train, X_test, y_train, y_test = train_test_split(X,y,test_size=0.2,shuffle=True)"
      ]
    },
    {
      "cell_type": "code",
      "execution_count": 13,
      "metadata": {
        "id": "OWHCVgC0Id7B"
      },
      "outputs": [],
      "source": [
        "#Build the model\n",
        "model = Sequential()\n",
        "model.add( Dense(256, input_dim=len(X.columns), kernel_initializer= k.initializers.random_normal(seed=13), activation='relu'))\n",
        "model.add(Dense(1, activation='hard_sigmoid'))"
      ]
    },
    {
      "cell_type": "code",
      "execution_count": 14,
      "metadata": {
        "id": "iGCYS2wyIeBk"
      },
      "outputs": [],
      "source": [
        "#Compile model\n",
        "model.compile(loss='binary_crossentropy', optimizer='adam', metrics=['accuracy'])"
      ]
    },
    {
      "cell_type": "code",
      "execution_count": 15,
      "metadata": {
        "colab": {
          "base_uri": "https://localhost:8080/"
        },
        "id": "afeU309qIeI3",
        "outputId": "402b742d-fd1e-47d7-fd04-9da1f6c05980"
      },
      "outputs": [
        {
          "name": "stdout",
          "output_type": "stream",
          "text": [
            "Epoch 1/200\n",
            "1/1 [==============================] - 1s 976ms/step - loss: 0.6813 - accuracy: 0.6550\n",
            "Epoch 2/200\n",
            "1/1 [==============================] - 0s 12ms/step - loss: 0.6747 - accuracy: 0.7249\n",
            "Epoch 3/200\n",
            "1/1 [==============================] - 0s 43ms/step - loss: 0.6682 - accuracy: 0.7729\n",
            "Epoch 4/200\n",
            "1/1 [==============================] - 0s 12ms/step - loss: 0.6618 - accuracy: 0.7948\n",
            "Epoch 5/200\n",
            "1/1 [==============================] - 0s 9ms/step - loss: 0.6555 - accuracy: 0.8210\n",
            "Epoch 6/200\n",
            "1/1 [==============================] - 0s 10ms/step - loss: 0.6492 - accuracy: 0.8253\n",
            "Epoch 7/200\n",
            "1/1 [==============================] - 0s 11ms/step - loss: 0.6430 - accuracy: 0.8384\n",
            "Epoch 8/200\n",
            "1/1 [==============================] - 0s 8ms/step - loss: 0.6369 - accuracy: 0.8428\n",
            "Epoch 9/200\n",
            "1/1 [==============================] - 0s 11ms/step - loss: 0.6308 - accuracy: 0.8472\n",
            "Epoch 10/200\n",
            "1/1 [==============================] - 0s 9ms/step - loss: 0.6247 - accuracy: 0.8472\n",
            "Epoch 11/200\n",
            "1/1 [==============================] - 0s 8ms/step - loss: 0.6187 - accuracy: 0.8515\n",
            "Epoch 12/200\n",
            "1/1 [==============================] - 0s 7ms/step - loss: 0.6128 - accuracy: 0.8603\n",
            "Epoch 13/200\n",
            "1/1 [==============================] - 0s 8ms/step - loss: 0.6069 - accuracy: 0.8603\n",
            "Epoch 14/200\n",
            "1/1 [==============================] - 0s 8ms/step - loss: 0.6010 - accuracy: 0.8603\n",
            "Epoch 15/200\n",
            "1/1 [==============================] - 0s 9ms/step - loss: 0.5951 - accuracy: 0.8646\n",
            "Epoch 16/200\n",
            "1/1 [==============================] - 0s 8ms/step - loss: 0.5892 - accuracy: 0.8690\n",
            "Epoch 17/200\n",
            "1/1 [==============================] - 0s 8ms/step - loss: 0.5832 - accuracy: 0.8734\n",
            "Epoch 18/200\n",
            "1/1 [==============================] - 0s 9ms/step - loss: 0.5773 - accuracy: 0.8734\n",
            "Epoch 19/200\n",
            "1/1 [==============================] - 0s 7ms/step - loss: 0.5713 - accuracy: 0.8734\n",
            "Epoch 20/200\n",
            "1/1 [==============================] - 0s 9ms/step - loss: 0.5654 - accuracy: 0.8777\n",
            "Epoch 21/200\n",
            "1/1 [==============================] - 0s 11ms/step - loss: 0.5594 - accuracy: 0.8865\n",
            "Epoch 22/200\n",
            "1/1 [==============================] - 0s 11ms/step - loss: 0.5534 - accuracy: 0.8865\n",
            "Epoch 23/200\n",
            "1/1 [==============================] - 0s 10ms/step - loss: 0.5474 - accuracy: 0.8865\n",
            "Epoch 24/200\n",
            "1/1 [==============================] - 0s 11ms/step - loss: 0.5412 - accuracy: 0.8865\n",
            "Epoch 25/200\n",
            "1/1 [==============================] - 0s 12ms/step - loss: 0.5350 - accuracy: 0.8865\n",
            "Epoch 26/200\n",
            "1/1 [==============================] - 0s 11ms/step - loss: 0.5287 - accuracy: 0.8865\n",
            "Epoch 27/200\n",
            "1/1 [==============================] - 0s 9ms/step - loss: 0.5223 - accuracy: 0.8865\n",
            "Epoch 28/200\n",
            "1/1 [==============================] - 0s 10ms/step - loss: 0.5159 - accuracy: 0.8865\n",
            "Epoch 29/200\n",
            "1/1 [==============================] - 0s 9ms/step - loss: 0.5095 - accuracy: 0.8908\n",
            "Epoch 30/200\n",
            "1/1 [==============================] - 0s 9ms/step - loss: 0.5030 - accuracy: 0.8908\n",
            "Epoch 31/200\n",
            "1/1 [==============================] - 0s 8ms/step - loss: 0.4964 - accuracy: 0.8908\n",
            "Epoch 32/200\n",
            "1/1 [==============================] - 0s 7ms/step - loss: 0.4899 - accuracy: 0.8908\n",
            "Epoch 33/200\n",
            "1/1 [==============================] - 0s 8ms/step - loss: 0.4832 - accuracy: 0.8908\n",
            "Epoch 34/200\n",
            "1/1 [==============================] - 0s 8ms/step - loss: 0.4764 - accuracy: 0.8908\n",
            "Epoch 35/200\n",
            "1/1 [==============================] - 0s 8ms/step - loss: 0.4696 - accuracy: 0.8908\n",
            "Epoch 36/200\n",
            "1/1 [==============================] - 0s 8ms/step - loss: 0.4627 - accuracy: 0.8908\n",
            "Epoch 37/200\n",
            "1/1 [==============================] - 0s 8ms/step - loss: 0.4557 - accuracy: 0.8908\n",
            "Epoch 38/200\n",
            "1/1 [==============================] - 0s 9ms/step - loss: 0.4486 - accuracy: 0.8908\n",
            "Epoch 39/200\n",
            "1/1 [==============================] - 0s 10ms/step - loss: 0.4415 - accuracy: 0.8908\n",
            "Epoch 40/200\n",
            "1/1 [==============================] - 0s 10ms/step - loss: 0.4343 - accuracy: 0.8952\n",
            "Epoch 41/200\n",
            "1/1 [==============================] - 0s 9ms/step - loss: 0.4271 - accuracy: 0.8996\n",
            "Epoch 42/200\n",
            "1/1 [==============================] - 0s 7ms/step - loss: 0.4198 - accuracy: 0.9039\n",
            "Epoch 43/200\n",
            "1/1 [==============================] - 0s 10ms/step - loss: 0.4125 - accuracy: 0.9039\n",
            "Epoch 44/200\n",
            "1/1 [==============================] - 0s 8ms/step - loss: 0.4051 - accuracy: 0.9039\n",
            "Epoch 45/200\n",
            "1/1 [==============================] - 0s 8ms/step - loss: 0.3976 - accuracy: 0.9039\n",
            "Epoch 46/200\n",
            "1/1 [==============================] - 0s 8ms/step - loss: 0.3901 - accuracy: 0.9039\n",
            "Epoch 47/200\n",
            "1/1 [==============================] - 0s 9ms/step - loss: 0.3825 - accuracy: 0.9039\n",
            "Epoch 48/200\n",
            "1/1 [==============================] - 0s 8ms/step - loss: 0.3749 - accuracy: 0.9039\n",
            "Epoch 49/200\n",
            "1/1 [==============================] - 0s 9ms/step - loss: 0.3672 - accuracy: 0.9039\n",
            "Epoch 50/200\n",
            "1/1 [==============================] - 0s 8ms/step - loss: 0.3595 - accuracy: 0.9039\n",
            "Epoch 51/200\n",
            "1/1 [==============================] - 0s 13ms/step - loss: 0.3518 - accuracy: 0.9039\n",
            "Epoch 52/200\n",
            "1/1 [==============================] - 0s 9ms/step - loss: 0.3440 - accuracy: 0.9039\n",
            "Epoch 53/200\n",
            "1/1 [==============================] - 0s 9ms/step - loss: 0.3361 - accuracy: 0.9039\n",
            "Epoch 54/200\n",
            "1/1 [==============================] - 0s 8ms/step - loss: 0.3283 - accuracy: 0.9039\n",
            "Epoch 55/200\n",
            "1/1 [==============================] - 0s 7ms/step - loss: 0.3206 - accuracy: 0.9039\n",
            "Epoch 56/200\n",
            "1/1 [==============================] - 0s 8ms/step - loss: 0.3128 - accuracy: 0.9039\n",
            "Epoch 57/200\n",
            "1/1 [==============================] - 0s 10ms/step - loss: 0.3051 - accuracy: 0.9039\n",
            "Epoch 58/200\n",
            "1/1 [==============================] - 0s 11ms/step - loss: 0.2976 - accuracy: 0.9039\n",
            "Epoch 59/200\n",
            "1/1 [==============================] - 0s 10ms/step - loss: 0.2901 - accuracy: 0.9039\n",
            "Epoch 60/200\n",
            "1/1 [==============================] - 0s 10ms/step - loss: 0.2828 - accuracy: 0.9039\n",
            "Epoch 61/200\n",
            "1/1 [==============================] - 0s 11ms/step - loss: 0.2756 - accuracy: 0.9083\n",
            "Epoch 62/200\n",
            "1/1 [==============================] - 0s 10ms/step - loss: 0.2687 - accuracy: 0.9083\n",
            "Epoch 63/200\n",
            "1/1 [==============================] - 0s 10ms/step - loss: 0.2619 - accuracy: 0.9083\n",
            "Epoch 64/200\n",
            "1/1 [==============================] - 0s 9ms/step - loss: 0.2551 - accuracy: 0.9083\n",
            "Epoch 65/200\n",
            "1/1 [==============================] - 0s 11ms/step - loss: 0.2485 - accuracy: 0.9083\n",
            "Epoch 66/200\n",
            "1/1 [==============================] - 0s 8ms/step - loss: 0.2420 - accuracy: 0.9083\n",
            "Epoch 67/200\n",
            "1/1 [==============================] - 0s 8ms/step - loss: 0.2357 - accuracy: 0.9083\n",
            "Epoch 68/200\n",
            "1/1 [==============================] - 0s 9ms/step - loss: 0.2296 - accuracy: 0.9083\n",
            "Epoch 69/200\n",
            "1/1 [==============================] - 0s 8ms/step - loss: 0.2237 - accuracy: 0.9083\n",
            "Epoch 70/200\n",
            "1/1 [==============================] - 0s 10ms/step - loss: 0.2180 - accuracy: 0.9083\n",
            "Epoch 71/200\n",
            "1/1 [==============================] - 0s 11ms/step - loss: 0.2125 - accuracy: 0.9083\n",
            "Epoch 72/200\n",
            "1/1 [==============================] - 0s 11ms/step - loss: 0.2072 - accuracy: 0.9083\n",
            "Epoch 73/200\n",
            "1/1 [==============================] - 0s 11ms/step - loss: 0.2022 - accuracy: 0.9083\n",
            "Epoch 74/200\n",
            "1/1 [==============================] - 0s 9ms/step - loss: 0.1974 - accuracy: 0.9083\n",
            "Epoch 75/200\n",
            "1/1 [==============================] - 0s 9ms/step - loss: 0.1929 - accuracy: 0.9083\n",
            "Epoch 76/200\n",
            "1/1 [==============================] - 0s 10ms/step - loss: 0.1885 - accuracy: 0.9083\n",
            "Epoch 77/200\n",
            "1/1 [==============================] - 0s 10ms/step - loss: 0.1842 - accuracy: 0.9127\n",
            "Epoch 78/200\n",
            "1/1 [==============================] - 0s 9ms/step - loss: 0.1801 - accuracy: 0.9127\n",
            "Epoch 79/200\n",
            "1/1 [==============================] - 0s 10ms/step - loss: 0.1762 - accuracy: 0.9214\n",
            "Epoch 80/200\n",
            "1/1 [==============================] - 0s 9ms/step - loss: 0.1723 - accuracy: 0.9214\n",
            "Epoch 81/200\n",
            "1/1 [==============================] - 0s 9ms/step - loss: 0.1687 - accuracy: 0.9214\n",
            "Epoch 82/200\n",
            "1/1 [==============================] - 0s 7ms/step - loss: 0.1653 - accuracy: 0.9214\n",
            "Epoch 83/200\n",
            "1/1 [==============================] - 0s 8ms/step - loss: 0.1620 - accuracy: 0.9214\n",
            "Epoch 84/200\n",
            "1/1 [==============================] - 0s 7ms/step - loss: 0.1589 - accuracy: 0.9214\n",
            "Epoch 85/200\n",
            "1/1 [==============================] - 0s 7ms/step - loss: 0.1560 - accuracy: 0.9258\n",
            "Epoch 86/200\n",
            "1/1 [==============================] - 0s 7ms/step - loss: 0.1532 - accuracy: 0.9301\n",
            "Epoch 87/200\n",
            "1/1 [==============================] - 0s 8ms/step - loss: 0.1505 - accuracy: 0.9345\n",
            "Epoch 88/200\n",
            "1/1 [==============================] - 0s 9ms/step - loss: 0.1478 - accuracy: 0.9389\n",
            "Epoch 89/200\n",
            "1/1 [==============================] - 0s 8ms/step - loss: 0.1453 - accuracy: 0.9389\n",
            "Epoch 90/200\n",
            "1/1 [==============================] - 0s 8ms/step - loss: 0.1428 - accuracy: 0.9389\n",
            "Epoch 91/200\n",
            "1/1 [==============================] - 0s 8ms/step - loss: 0.1405 - accuracy: 0.9432\n",
            "Epoch 92/200\n",
            "1/1 [==============================] - 0s 9ms/step - loss: 0.1383 - accuracy: 0.9476\n",
            "Epoch 93/200\n",
            "1/1 [==============================] - 0s 8ms/step - loss: 0.1361 - accuracy: 0.9476\n",
            "Epoch 94/200\n",
            "1/1 [==============================] - 0s 8ms/step - loss: 0.1340 - accuracy: 0.9476\n",
            "Epoch 95/200\n",
            "1/1 [==============================] - 0s 8ms/step - loss: 0.1320 - accuracy: 0.9476\n",
            "Epoch 96/200\n",
            "1/1 [==============================] - 0s 8ms/step - loss: 0.1301 - accuracy: 0.9476\n",
            "Epoch 97/200\n",
            "1/1 [==============================] - 0s 8ms/step - loss: 0.1282 - accuracy: 0.9476\n",
            "Epoch 98/200\n",
            "1/1 [==============================] - 0s 8ms/step - loss: 0.1264 - accuracy: 0.9476\n",
            "Epoch 99/200\n",
            "1/1 [==============================] - 0s 8ms/step - loss: 0.1247 - accuracy: 0.9520\n",
            "Epoch 100/200\n",
            "1/1 [==============================] - 0s 6ms/step - loss: 0.1230 - accuracy: 0.9520\n",
            "Epoch 101/200\n",
            "1/1 [==============================] - 0s 8ms/step - loss: 0.1213 - accuracy: 0.9520\n",
            "Epoch 102/200\n",
            "1/1 [==============================] - 0s 8ms/step - loss: 0.1198 - accuracy: 0.9520\n",
            "Epoch 103/200\n",
            "1/1 [==============================] - 0s 7ms/step - loss: 0.1183 - accuracy: 0.9563\n",
            "Epoch 104/200\n",
            "1/1 [==============================] - 0s 8ms/step - loss: 0.1168 - accuracy: 0.9563\n",
            "Epoch 105/200\n",
            "1/1 [==============================] - 0s 7ms/step - loss: 0.1154 - accuracy: 0.9563\n",
            "Epoch 106/200\n",
            "1/1 [==============================] - 0s 6ms/step - loss: 0.1140 - accuracy: 0.9563\n",
            "Epoch 107/200\n",
            "1/1 [==============================] - 0s 7ms/step - loss: 0.1126 - accuracy: 0.9563\n",
            "Epoch 108/200\n",
            "1/1 [==============================] - 0s 6ms/step - loss: 0.1113 - accuracy: 0.9563\n",
            "Epoch 109/200\n",
            "1/1 [==============================] - 0s 7ms/step - loss: 0.1099 - accuracy: 0.9563\n",
            "Epoch 110/200\n",
            "1/1 [==============================] - 0s 5ms/step - loss: 0.1086 - accuracy: 0.9563\n",
            "Epoch 111/200\n",
            "1/1 [==============================] - 0s 6ms/step - loss: 0.1073 - accuracy: 0.9563\n",
            "Epoch 112/200\n",
            "1/1 [==============================] - 0s 7ms/step - loss: 0.1060 - accuracy: 0.9563\n",
            "Epoch 113/200\n",
            "1/1 [==============================] - 0s 6ms/step - loss: 0.1047 - accuracy: 0.9563\n",
            "Epoch 114/200\n",
            "1/1 [==============================] - 0s 6ms/step - loss: 0.1034 - accuracy: 0.9563\n",
            "Epoch 115/200\n",
            "1/1 [==============================] - 0s 6ms/step - loss: 0.1022 - accuracy: 0.9563\n",
            "Epoch 116/200\n",
            "1/1 [==============================] - 0s 7ms/step - loss: 0.1010 - accuracy: 0.9563\n",
            "Epoch 117/200\n",
            "1/1 [==============================] - 0s 6ms/step - loss: 0.0997 - accuracy: 0.9563\n",
            "Epoch 118/200\n",
            "1/1 [==============================] - 0s 7ms/step - loss: 0.0985 - accuracy: 0.9563\n",
            "Epoch 119/200\n",
            "1/1 [==============================] - 0s 7ms/step - loss: 0.0973 - accuracy: 0.9563\n",
            "Epoch 120/200\n",
            "1/1 [==============================] - 0s 6ms/step - loss: 0.0961 - accuracy: 0.9563\n",
            "Epoch 121/200\n",
            "1/1 [==============================] - 0s 7ms/step - loss: 0.0949 - accuracy: 0.9563\n",
            "Epoch 122/200\n",
            "1/1 [==============================] - 0s 7ms/step - loss: 0.0938 - accuracy: 0.9563\n",
            "Epoch 123/200\n",
            "1/1 [==============================] - 0s 8ms/step - loss: 0.0926 - accuracy: 0.9563\n",
            "Epoch 124/200\n",
            "1/1 [==============================] - 0s 7ms/step - loss: 0.0915 - accuracy: 0.9563\n",
            "Epoch 125/200\n",
            "1/1 [==============================] - 0s 8ms/step - loss: 0.0905 - accuracy: 0.9607\n",
            "Epoch 126/200\n",
            "1/1 [==============================] - 0s 8ms/step - loss: 0.0894 - accuracy: 0.9607\n",
            "Epoch 127/200\n",
            "1/1 [==============================] - 0s 7ms/step - loss: 0.0884 - accuracy: 0.9607\n",
            "Epoch 128/200\n",
            "1/1 [==============================] - 0s 7ms/step - loss: 0.0874 - accuracy: 0.9607\n",
            "Epoch 129/200\n",
            "1/1 [==============================] - 0s 8ms/step - loss: 0.0865 - accuracy: 0.9651\n",
            "Epoch 130/200\n",
            "1/1 [==============================] - 0s 38ms/step - loss: 0.0855 - accuracy: 0.9651\n",
            "Epoch 131/200\n",
            "1/1 [==============================] - 0s 12ms/step - loss: 0.0846 - accuracy: 0.9651\n",
            "Epoch 132/200\n",
            "1/1 [==============================] - 0s 7ms/step - loss: 0.0837 - accuracy: 0.9651\n",
            "Epoch 133/200\n",
            "1/1 [==============================] - 0s 9ms/step - loss: 0.0828 - accuracy: 0.9651\n",
            "Epoch 134/200\n",
            "1/1 [==============================] - 0s 6ms/step - loss: 0.0819 - accuracy: 0.9651\n",
            "Epoch 135/200\n",
            "1/1 [==============================] - 0s 8ms/step - loss: 0.0811 - accuracy: 0.9651\n",
            "Epoch 136/200\n",
            "1/1 [==============================] - 0s 6ms/step - loss: 0.0803 - accuracy: 0.9651\n",
            "Epoch 137/200\n",
            "1/1 [==============================] - 0s 6ms/step - loss: 0.0795 - accuracy: 0.9651\n",
            "Epoch 138/200\n",
            "1/1 [==============================] - 0s 8ms/step - loss: 0.0787 - accuracy: 0.9651\n",
            "Epoch 139/200\n",
            "1/1 [==============================] - 0s 7ms/step - loss: 0.0779 - accuracy: 0.9651\n",
            "Epoch 140/200\n",
            "1/1 [==============================] - 0s 8ms/step - loss: 0.0771 - accuracy: 0.9651\n",
            "Epoch 141/200\n",
            "1/1 [==============================] - 0s 6ms/step - loss: 0.0763 - accuracy: 0.9651\n",
            "Epoch 142/200\n",
            "1/1 [==============================] - 0s 7ms/step - loss: 0.0756 - accuracy: 0.9694\n",
            "Epoch 143/200\n",
            "1/1 [==============================] - 0s 9ms/step - loss: 0.0749 - accuracy: 0.9694\n",
            "Epoch 144/200\n",
            "1/1 [==============================] - 0s 8ms/step - loss: 0.0741 - accuracy: 0.9694\n",
            "Epoch 145/200\n",
            "1/1 [==============================] - 0s 11ms/step - loss: 0.0734 - accuracy: 0.9694\n",
            "Epoch 146/200\n",
            "1/1 [==============================] - 0s 9ms/step - loss: 0.0727 - accuracy: 0.9694\n",
            "Epoch 147/200\n",
            "1/1 [==============================] - 0s 9ms/step - loss: 0.0721 - accuracy: 0.9694\n",
            "Epoch 148/200\n",
            "1/1 [==============================] - 0s 10ms/step - loss: 0.0714 - accuracy: 0.9694\n",
            "Epoch 149/200\n",
            "1/1 [==============================] - 0s 10ms/step - loss: 0.0708 - accuracy: 0.9694\n",
            "Epoch 150/200\n",
            "1/1 [==============================] - 0s 10ms/step - loss: 0.0702 - accuracy: 0.9694\n",
            "Epoch 151/200\n",
            "1/1 [==============================] - 0s 9ms/step - loss: 0.0696 - accuracy: 0.9694\n",
            "Epoch 152/200\n",
            "1/1 [==============================] - 0s 11ms/step - loss: 0.0690 - accuracy: 0.9694\n",
            "Epoch 153/200\n",
            "1/1 [==============================] - 0s 9ms/step - loss: 0.0684 - accuracy: 0.9694\n",
            "Epoch 154/200\n",
            "1/1 [==============================] - 0s 10ms/step - loss: 0.0678 - accuracy: 0.9694\n",
            "Epoch 155/200\n",
            "1/1 [==============================] - 0s 9ms/step - loss: 0.0673 - accuracy: 0.9694\n",
            "Epoch 156/200\n",
            "1/1 [==============================] - 0s 9ms/step - loss: 0.0667 - accuracy: 0.9694\n",
            "Epoch 157/200\n",
            "1/1 [==============================] - 0s 9ms/step - loss: 0.0662 - accuracy: 0.9694\n",
            "Epoch 158/200\n",
            "1/1 [==============================] - 0s 8ms/step - loss: 0.0657 - accuracy: 0.9694\n",
            "Epoch 159/200\n",
            "1/1 [==============================] - 0s 7ms/step - loss: 0.0651 - accuracy: 0.9694\n",
            "Epoch 160/200\n",
            "1/1 [==============================] - 0s 9ms/step - loss: 0.0646 - accuracy: 0.9694\n",
            "Epoch 161/200\n",
            "1/1 [==============================] - 0s 8ms/step - loss: 0.0641 - accuracy: 0.9694\n",
            "Epoch 162/200\n",
            "1/1 [==============================] - 0s 8ms/step - loss: 0.0636 - accuracy: 0.9694\n",
            "Epoch 163/200\n",
            "1/1 [==============================] - 0s 8ms/step - loss: 0.0632 - accuracy: 0.9694\n",
            "Epoch 164/200\n",
            "1/1 [==============================] - 0s 8ms/step - loss: 0.0627 - accuracy: 0.9694\n",
            "Epoch 165/200\n",
            "1/1 [==============================] - 0s 7ms/step - loss: 0.0623 - accuracy: 0.9694\n",
            "Epoch 166/200\n",
            "1/1 [==============================] - 0s 8ms/step - loss: 0.0618 - accuracy: 0.9694\n",
            "Epoch 167/200\n",
            "1/1 [==============================] - 0s 9ms/step - loss: 0.0614 - accuracy: 0.9694\n",
            "Epoch 168/200\n",
            "1/1 [==============================] - 0s 8ms/step - loss: 0.0609 - accuracy: 0.9694\n",
            "Epoch 169/200\n",
            "1/1 [==============================] - 0s 8ms/step - loss: 0.0605 - accuracy: 0.9694\n",
            "Epoch 170/200\n",
            "1/1 [==============================] - 0s 9ms/step - loss: 0.0601 - accuracy: 0.9694\n",
            "Epoch 171/200\n",
            "1/1 [==============================] - 0s 10ms/step - loss: 0.0597 - accuracy: 0.9694\n",
            "Epoch 172/200\n",
            "1/1 [==============================] - 0s 9ms/step - loss: 0.0592 - accuracy: 0.9694\n",
            "Epoch 173/200\n",
            "1/1 [==============================] - 0s 10ms/step - loss: 0.0588 - accuracy: 0.9738\n",
            "Epoch 174/200\n",
            "1/1 [==============================] - 0s 9ms/step - loss: 0.0584 - accuracy: 0.9738\n",
            "Epoch 175/200\n",
            "1/1 [==============================] - 0s 9ms/step - loss: 0.0580 - accuracy: 0.9738\n",
            "Epoch 176/200\n",
            "1/1 [==============================] - 0s 9ms/step - loss: 0.0576 - accuracy: 0.9738\n",
            "Epoch 177/200\n",
            "1/1 [==============================] - 0s 8ms/step - loss: 0.0572 - accuracy: 0.9738\n",
            "Epoch 178/200\n",
            "1/1 [==============================] - 0s 8ms/step - loss: 0.0568 - accuracy: 0.9782\n",
            "Epoch 179/200\n",
            "1/1 [==============================] - 0s 11ms/step - loss: 0.0564 - accuracy: 0.9782\n",
            "Epoch 180/200\n",
            "1/1 [==============================] - 0s 9ms/step - loss: 0.0561 - accuracy: 0.9782\n",
            "Epoch 181/200\n",
            "1/1 [==============================] - 0s 9ms/step - loss: 0.0557 - accuracy: 0.9782\n",
            "Epoch 182/200\n",
            "1/1 [==============================] - 0s 8ms/step - loss: 0.0553 - accuracy: 0.9782\n",
            "Epoch 183/200\n",
            "1/1 [==============================] - 0s 8ms/step - loss: 0.0549 - accuracy: 0.9782\n",
            "Epoch 184/200\n",
            "1/1 [==============================] - 0s 7ms/step - loss: 0.0545 - accuracy: 0.9782\n",
            "Epoch 185/200\n",
            "1/1 [==============================] - 0s 9ms/step - loss: 0.0542 - accuracy: 0.9782\n",
            "Epoch 186/200\n",
            "1/1 [==============================] - 0s 9ms/step - loss: 0.0538 - accuracy: 0.9782\n",
            "Epoch 187/200\n",
            "1/1 [==============================] - 0s 9ms/step - loss: 0.0534 - accuracy: 0.9782\n",
            "Epoch 188/200\n",
            "1/1 [==============================] - 0s 10ms/step - loss: 0.0531 - accuracy: 0.9782\n",
            "Epoch 189/200\n",
            "1/1 [==============================] - 0s 9ms/step - loss: 0.0527 - accuracy: 0.9782\n",
            "Epoch 190/200\n",
            "1/1 [==============================] - 0s 8ms/step - loss: 0.0524 - accuracy: 0.9782\n",
            "Epoch 191/200\n",
            "1/1 [==============================] - 0s 8ms/step - loss: 0.0520 - accuracy: 0.9782\n",
            "Epoch 192/200\n",
            "1/1 [==============================] - 0s 8ms/step - loss: 0.0517 - accuracy: 0.9782\n",
            "Epoch 193/200\n",
            "1/1 [==============================] - 0s 8ms/step - loss: 0.0513 - accuracy: 0.9782\n",
            "Epoch 194/200\n",
            "1/1 [==============================] - 0s 8ms/step - loss: 0.0510 - accuracy: 0.9782\n",
            "Epoch 195/200\n",
            "1/1 [==============================] - 0s 9ms/step - loss: 0.0506 - accuracy: 0.9782\n",
            "Epoch 196/200\n",
            "1/1 [==============================] - 0s 11ms/step - loss: 0.0503 - accuracy: 0.9782\n",
            "Epoch 197/200\n",
            "1/1 [==============================] - 0s 10ms/step - loss: 0.0499 - accuracy: 0.9825\n",
            "Epoch 198/200\n",
            "1/1 [==============================] - 0s 12ms/step - loss: 0.0496 - accuracy: 0.9825\n",
            "Epoch 199/200\n",
            "1/1 [==============================] - 0s 10ms/step - loss: 0.0493 - accuracy: 0.9825\n",
            "Epoch 200/200\n",
            "1/1 [==============================] - 0s 11ms/step - loss: 0.0489 - accuracy: 0.9869\n"
          ]
        }
      ],
      "source": [
        "#Train model\n",
        "history = model.fit(X_train, y_train, epochs = 200, batch_size= X_train.shape[0])"
      ]
    },
    {
      "cell_type": "code",
      "execution_count": 16,
      "metadata": {
        "colab": {
          "base_uri": "https://localhost:8080/"
        },
        "id": "cRuLBbyAIzjb",
        "outputId": "5ff2f947-fffd-43a6-d8ca-d28192025c0c"
      },
      "outputs": [],
      "source": [
        "#save the model\n",
        "model.save('webapp/model/kd.h5')"
      ]
    },
    {
      "cell_type": "code",
      "execution_count": 17,
      "metadata": {
        "colab": {
          "base_uri": "https://localhost:8080/",
          "height": 489
        },
        "id": "V6yBiSdhIzpt",
        "outputId": "9b30d72d-53c0-429c-f567-2301a4092a10"
      },
      "outputs": [
        {
          "data": {
            "text/plain": [
              "Text(0.5, 0, 'epoch')"
            ]
          },
          "execution_count": 17,
          "metadata": {},
          "output_type": "execute_result"
        },
        {
          "data": {
            "image/png": "[encoded data removed]",
            "text/plain": [
              "<Figure size 640x480 with 1 Axes>"
            ]
          },
          "metadata": {},
          "output_type": "display_data"
        }
      ],
      "source": [
        "#visualize the models loss and accuracy\n",
        "plt.plot(history.history['accuracy'])\n",
        "plt.plot(history.history['loss'])\n",
        "plt.title('model accuracy & loss')\n",
        "plt.ylabel('accuracy and loss')\n",
        "plt.xlabel('epoch')"
      ]
    },
    {
      "cell_type": "code",
      "execution_count": 18,
      "metadata": {
        "colab": {
          "base_uri": "https://localhost:8080/"
        },
        "id": "jzWwCDXfIzvJ",
        "outputId": "0d7869b4-07c7-4071-9e36-55cd538a5e64"
      },
      "outputs": [
        {
          "name": "stdout",
          "output_type": "stream",
          "text": [
            "shape of training data : (229, 6)\n",
            "shape of test data : (58, 6)\n"
          ]
        }
      ],
      "source": [
        "# Get shape of the trainig and testing data set\n",
        "print('shape of training data :', X_train.shape)\n",
        "print('shape of test data :', X_test.shape)"
      ]
    },
    {
      "cell_type": "code",
      "execution_count": 19,
      "metadata": {
        "colab": {
          "base_uri": "https://localhost:8080/"
        },
        "id": "tcTtP1zzIz5V",
        "outputId": "09236d6f-1315-45bd-a85b-ccfee9c3feeb"
      },
      "outputs": [
        {
          "name": "stdout",
          "output_type": "stream",
          "text": [
            "2/2 [==============================] - 0s 4ms/step\n",
            "Original : 0, 0, 0, 0, 0, 1, 0, 0, 0, 0, 0, 1, 0, 1, 0, 0, 1, 1, 0, 1, 0, 0, 1, 0, 0, 1, 0, 1, 0, 0, 0, 1, 0, 0, 0, 0, 0, 1, 1, 1, 0, 0, 0, 0, 0, 1, 1, 1, 0, 1, 0, 0, 1, 0, 0, 0, 1, 1\n",
            "Predicted : 0, 0, 0, 0, 1, 1, 1, 0, 0, 0, 0, 1, 0, 1, 0, 0, 1, 1, 0, 1, 0, 0, 1, 0, 0, 1, 0, 1, 0, 0, 1, 1, 0, 0, 1, 0, 0, 1, 1, 1, 0, 0, 0, 0, 0, 1, 1, 1, 0, 1, 0, 0, 1, 0, 0, 0, 1, 1\n"
          ]
        }
      ],
      "source": [
        "pred=model.predict(X_test)\n",
        "pred=[1 if y>=0.5 else 0 for y in pred]\n",
        "\n",
        "print('Original : {0}'.format(\", \".join(str(x) for x in y_test)))\n",
        "print('Predicted : {0}'.format(\", \".join(str(x) for x in pred)))"
      ]
    },
    {
      "cell_type": "code",
      "execution_count": null,
      "metadata": {},
      "outputs": [],
      "source": []
    }
  ],
  "metadata": {
    "colab": {
      "provenance": []
    },
    "kernelspec": {
      "display_name": "Python 3",
      "name": "python3"
    },
    "language_info": {
      "codemirror_mode": {
        "name": "ipython",
        "version": 3
      },
      "file_extension": ".py",
      "mimetype": "text/x-python",
      "name": "python",
      "nbconvert_exporter": "python",
      "pygments_lexer": "ipython3",
      "version": "3.9.0"
    }
  },
  "nbformat": 4,
  "nbformat_minor": 0
}
